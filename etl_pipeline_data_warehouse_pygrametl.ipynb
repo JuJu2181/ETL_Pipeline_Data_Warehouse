{
 "cells": [
  {
   "attachments": {},
   "cell_type": "markdown",
   "metadata": {},
   "source": [
    "# ETL pipeline and Data warehouse using Python and Postgresql\n",
    "\n",
    "Here, I will create a simple ETL pipeline using Python and Postgresql and won't use AWS. \n",
    "\n",
    "### Basic ETL Workflow\n",
    "1. Extract data from CSV files \n",
    "2. Transform the data using Pandas\n",
    "3. Load the transformed data to a data warehouse created using Postgresql\n",
    "\n",
    "### For Data warehouse\n",
    "- Create Data Model illustrating star schema with fact and dimension tables\n",
    "- Fact table: Product reviews\n",
    "- Dimension tables: Product info, brand info, date info, rating info, author info"
   ]
  },
  {
   "cell_type": "code",
   "execution_count": 2,
   "metadata": {},
   "outputs": [],
   "source": [
    "#* Imports \n",
    "# sqlalchemy and psycopg2 will be used to connect to the postgresql database\n",
    "from sqlalchemy import create_engine\n",
    "import psycopg2\n",
    "# pygrametl is used to create ETL flow\n",
    "import pygrametl \n",
    "# To read data from external csv files\n",
    "from pygrametl.datasources import CSVSource\n",
    "# Using pygrametl we can interact with dimensions and fat table using set of classes\n",
    "from pygrametl.tables import CachedDimension, FactTable \n",
    "# For data processing\n",
    "import pandas as pd \n",
    "# For data visualization\n",
    "import matplotlib.pyplot as plt"
   ]
  },
  {
   "cell_type": "code",
   "execution_count": 3,
   "metadata": {},
   "outputs": [],
   "source": [
    "# Dataset Paths\n",
    "dataset1_path = \"datasets/product_info.csv\"\n",
    "dataset2_path = \"datasets/product_reviews.csv\"\n",
    "# dataset3 is just a bigger version of dataset2\n",
    "dataset3_path = \"datasets/product_reviews_extra.csv\""
   ]
  },
  {
   "attachments": {},
   "cell_type": "markdown",
   "metadata": {},
   "source": [
    "## 1. Extract Step\n",
    "- In this step the data is extracted from the CSV file which is the data source in this case. There are two datasets, one containing the products information and other containing product reviews of customer. Both files are part of ecommerce dataset and will be used as data source for this project.  \n",
    "- Alternatively, dataset from API, relational database, web scraping could also have been used for extraction"
   ]
  },
  {
   "cell_type": "code",
   "execution_count": 6,
   "metadata": {},
   "outputs": [
    {
     "name": "stdout",
     "output_type": "stream",
     "text": [
      "Rows:8494, Columns:27\n"
     ]
    },
    {
     "data": {
      "text/html": [
       "<div>\n",
       "<style scoped>\n",
       "    .dataframe tbody tr th:only-of-type {\n",
       "        vertical-align: middle;\n",
       "    }\n",
       "\n",
       "    .dataframe tbody tr th {\n",
       "        vertical-align: top;\n",
       "    }\n",
       "\n",
       "    .dataframe thead th {\n",
       "        text-align: right;\n",
       "    }\n",
       "</style>\n",
       "<table border=\"1\" class=\"dataframe\">\n",
       "  <thead>\n",
       "    <tr style=\"text-align: right;\">\n",
       "      <th></th>\n",
       "      <th>product_id</th>\n",
       "      <th>product_name</th>\n",
       "      <th>brand_id</th>\n",
       "      <th>brand_name</th>\n",
       "      <th>loves_count</th>\n",
       "      <th>rating</th>\n",
       "      <th>reviews</th>\n",
       "      <th>size</th>\n",
       "      <th>variation_type</th>\n",
       "      <th>variation_value</th>\n",
       "      <th>...</th>\n",
       "      <th>online_only</th>\n",
       "      <th>out_of_stock</th>\n",
       "      <th>sephora_exclusive</th>\n",
       "      <th>highlights</th>\n",
       "      <th>primary_category</th>\n",
       "      <th>secondary_category</th>\n",
       "      <th>tertiary_category</th>\n",
       "      <th>child_count</th>\n",
       "      <th>child_max_price</th>\n",
       "      <th>child_min_price</th>\n",
       "    </tr>\n",
       "  </thead>\n",
       "  <tbody>\n",
       "    <tr>\n",
       "      <th>0</th>\n",
       "      <td>P473671</td>\n",
       "      <td>Fragrance Discovery Set</td>\n",
       "      <td>6342</td>\n",
       "      <td>19-69</td>\n",
       "      <td>6320</td>\n",
       "      <td>3.6364</td>\n",
       "      <td>11.0</td>\n",
       "      <td>NaN</td>\n",
       "      <td>NaN</td>\n",
       "      <td>NaN</td>\n",
       "      <td>...</td>\n",
       "      <td>1</td>\n",
       "      <td>0</td>\n",
       "      <td>0</td>\n",
       "      <td>['Unisex/ Genderless Scent', 'Warm &amp;Spicy Scen...</td>\n",
       "      <td>Fragrance</td>\n",
       "      <td>Value &amp; Gift Sets</td>\n",
       "      <td>Perfume Gift Sets</td>\n",
       "      <td>0</td>\n",
       "      <td>NaN</td>\n",
       "      <td>NaN</td>\n",
       "    </tr>\n",
       "    <tr>\n",
       "      <th>1</th>\n",
       "      <td>P473668</td>\n",
       "      <td>La Habana Eau de Parfum</td>\n",
       "      <td>6342</td>\n",
       "      <td>19-69</td>\n",
       "      <td>3827</td>\n",
       "      <td>4.1538</td>\n",
       "      <td>13.0</td>\n",
       "      <td>3.4 oz/ 100 mL</td>\n",
       "      <td>Size + Concentration + Formulation</td>\n",
       "      <td>3.4 oz/ 100 mL</td>\n",
       "      <td>...</td>\n",
       "      <td>1</td>\n",
       "      <td>0</td>\n",
       "      <td>0</td>\n",
       "      <td>['Unisex/ Genderless Scent', 'Layerable Scent'...</td>\n",
       "      <td>Fragrance</td>\n",
       "      <td>Women</td>\n",
       "      <td>Perfume</td>\n",
       "      <td>2</td>\n",
       "      <td>85.0</td>\n",
       "      <td>30.0</td>\n",
       "    </tr>\n",
       "    <tr>\n",
       "      <th>2</th>\n",
       "      <td>P473662</td>\n",
       "      <td>Rainbow Bar Eau de Parfum</td>\n",
       "      <td>6342</td>\n",
       "      <td>19-69</td>\n",
       "      <td>3253</td>\n",
       "      <td>4.2500</td>\n",
       "      <td>16.0</td>\n",
       "      <td>3.4 oz/ 100 mL</td>\n",
       "      <td>Size + Concentration + Formulation</td>\n",
       "      <td>3.4 oz/ 100 mL</td>\n",
       "      <td>...</td>\n",
       "      <td>1</td>\n",
       "      <td>0</td>\n",
       "      <td>0</td>\n",
       "      <td>['Unisex/ Genderless Scent', 'Layerable Scent'...</td>\n",
       "      <td>Fragrance</td>\n",
       "      <td>Women</td>\n",
       "      <td>Perfume</td>\n",
       "      <td>2</td>\n",
       "      <td>75.0</td>\n",
       "      <td>30.0</td>\n",
       "    </tr>\n",
       "    <tr>\n",
       "      <th>3</th>\n",
       "      <td>P473660</td>\n",
       "      <td>Kasbah Eau de Parfum</td>\n",
       "      <td>6342</td>\n",
       "      <td>19-69</td>\n",
       "      <td>3018</td>\n",
       "      <td>4.4762</td>\n",
       "      <td>21.0</td>\n",
       "      <td>3.4 oz/ 100 mL</td>\n",
       "      <td>Size + Concentration + Formulation</td>\n",
       "      <td>3.4 oz/ 100 mL</td>\n",
       "      <td>...</td>\n",
       "      <td>1</td>\n",
       "      <td>0</td>\n",
       "      <td>0</td>\n",
       "      <td>['Unisex/ Genderless Scent', 'Layerable Scent'...</td>\n",
       "      <td>Fragrance</td>\n",
       "      <td>Women</td>\n",
       "      <td>Perfume</td>\n",
       "      <td>2</td>\n",
       "      <td>75.0</td>\n",
       "      <td>30.0</td>\n",
       "    </tr>\n",
       "    <tr>\n",
       "      <th>4</th>\n",
       "      <td>P473658</td>\n",
       "      <td>Purple Haze Eau de Parfum</td>\n",
       "      <td>6342</td>\n",
       "      <td>19-69</td>\n",
       "      <td>2691</td>\n",
       "      <td>3.2308</td>\n",
       "      <td>13.0</td>\n",
       "      <td>3.4 oz/ 100 mL</td>\n",
       "      <td>Size + Concentration + Formulation</td>\n",
       "      <td>3.4 oz/ 100 mL</td>\n",
       "      <td>...</td>\n",
       "      <td>1</td>\n",
       "      <td>0</td>\n",
       "      <td>0</td>\n",
       "      <td>['Unisex/ Genderless Scent', 'Layerable Scent'...</td>\n",
       "      <td>Fragrance</td>\n",
       "      <td>Women</td>\n",
       "      <td>Perfume</td>\n",
       "      <td>2</td>\n",
       "      <td>75.0</td>\n",
       "      <td>30.0</td>\n",
       "    </tr>\n",
       "  </tbody>\n",
       "</table>\n",
       "<p>5 rows × 27 columns</p>\n",
       "</div>"
      ],
      "text/plain": [
       "  product_id               product_name  brand_id brand_name  loves_count   \n",
       "0    P473671    Fragrance Discovery Set      6342      19-69         6320  \\\n",
       "1    P473668    La Habana Eau de Parfum      6342      19-69         3827   \n",
       "2    P473662  Rainbow Bar Eau de Parfum      6342      19-69         3253   \n",
       "3    P473660       Kasbah Eau de Parfum      6342      19-69         3018   \n",
       "4    P473658  Purple Haze Eau de Parfum      6342      19-69         2691   \n",
       "\n",
       "   rating  reviews            size                      variation_type   \n",
       "0  3.6364     11.0             NaN                                 NaN  \\\n",
       "1  4.1538     13.0  3.4 oz/ 100 mL  Size + Concentration + Formulation   \n",
       "2  4.2500     16.0  3.4 oz/ 100 mL  Size + Concentration + Formulation   \n",
       "3  4.4762     21.0  3.4 oz/ 100 mL  Size + Concentration + Formulation   \n",
       "4  3.2308     13.0  3.4 oz/ 100 mL  Size + Concentration + Formulation   \n",
       "\n",
       "  variation_value  ... online_only out_of_stock  sephora_exclusive   \n",
       "0             NaN  ...           1            0                  0  \\\n",
       "1  3.4 oz/ 100 mL  ...           1            0                  0   \n",
       "2  3.4 oz/ 100 mL  ...           1            0                  0   \n",
       "3  3.4 oz/ 100 mL  ...           1            0                  0   \n",
       "4  3.4 oz/ 100 mL  ...           1            0                  0   \n",
       "\n",
       "                                          highlights  primary_category   \n",
       "0  ['Unisex/ Genderless Scent', 'Warm &Spicy Scen...         Fragrance  \\\n",
       "1  ['Unisex/ Genderless Scent', 'Layerable Scent'...         Fragrance   \n",
       "2  ['Unisex/ Genderless Scent', 'Layerable Scent'...         Fragrance   \n",
       "3  ['Unisex/ Genderless Scent', 'Layerable Scent'...         Fragrance   \n",
       "4  ['Unisex/ Genderless Scent', 'Layerable Scent'...         Fragrance   \n",
       "\n",
       "   secondary_category  tertiary_category  child_count  child_max_price   \n",
       "0   Value & Gift Sets  Perfume Gift Sets            0              NaN  \\\n",
       "1               Women            Perfume            2             85.0   \n",
       "2               Women            Perfume            2             75.0   \n",
       "3               Women            Perfume            2             75.0   \n",
       "4               Women            Perfume            2             75.0   \n",
       "\n",
       "   child_min_price  \n",
       "0              NaN  \n",
       "1             30.0  \n",
       "2             30.0  \n",
       "3             30.0  \n",
       "4             30.0  \n",
       "\n",
       "[5 rows x 27 columns]"
      ]
     },
     "execution_count": 6,
     "metadata": {},
     "output_type": "execute_result"
    }
   ],
   "source": [
    "# Reading the dataset using pandas to explore the data\n",
    "df1 = pd.read_csv(dataset1_path)\n",
    "print(f\"Rows:{df1.shape[0]}, Columns:{df1.shape[1]}\")\n",
    "df1.head()"
   ]
  },
  {
   "cell_type": "code",
   "execution_count": 7,
   "metadata": {},
   "outputs": [
    {
     "data": {
      "text/plain": [
       "Index(['product_id', 'product_name', 'brand_id', 'brand_name', 'loves_count',\n",
       "       'rating', 'reviews', 'size', 'variation_type', 'variation_value',\n",
       "       'variation_desc', 'ingredients', 'price_usd', 'value_price_usd',\n",
       "       'sale_price_usd', 'limited_edition', 'new', 'online_only',\n",
       "       'out_of_stock', 'sephora_exclusive', 'highlights', 'primary_category',\n",
       "       'secondary_category', 'tertiary_category', 'child_count',\n",
       "       'child_max_price', 'child_min_price'],\n",
       "      dtype='object')"
      ]
     },
     "execution_count": 7,
     "metadata": {},
     "output_type": "execute_result"
    }
   ],
   "source": [
    "# Checking the columns to determine the necessary columns for this project\n",
    "df1.columns"
   ]
  },
  {
   "attachments": {},
   "cell_type": "markdown",
   "metadata": {},
   "source": [
    "#### Columns Description\n",
    "1. **product_id**: Unique Product Identifier\n",
    "2. **product_name**: Full name of Product\n",
    "3. **brand_id**: Unique Brand Identifier\n",
    "4. **brand_name**: Full name of Product band\n",
    "5. **loves_count**: No of people who marked this product as favorite\n",
    "6. **rating**: Average rating of product based on user reviews\n",
    "7. **reviews**: No of user reviews for the product \n",
    "8. **size**: Product size, may be in oz, ml g, packs, or other units\n",
    "9. **variation_types**: The type of variation parameter for the product (e.g. Size, Color)\n",
    "10. **variation_value**: The specific value of the variation parameter for the product (e.g. 100 mL, Golden Sand)\n",
    "11. **variation_desc**: A description of the variation parameter for the product (e.g. tone for fairest skin)\n",
    "12. **ingredients**: A list of ingredients included in the product, for example: [‘Product variation 1:’, ‘Water, Glycerin’, ‘Product variation 2:’, ‘Talc, Mica’] or if no variations [‘Water, Glycerin’]\n",
    "13. **price_usd**: The price of the product in US dollars\n",
    "14. **value_price_usd**: The potential cost savings of the product, presented on the site next to the regular price\n",
    "15. **sale_price_usd**: The sale price of the product in US dollars\n",
    "16. **limited_edition**: Indicates whether the product is a limited edition or not (1-true, 0-false)\n",
    "17. **new**: Indicates whether the product is new or not (1-true, 0-false)\n",
    "18. **online_only**: Indicates whether the product is only sold online or not (1-true, 0-false)\n",
    "19. **out_of_stock**: Indicates whether the product is currently out of stock or not (1 if true, 0 if false)\n",
    "20. **sephora_exclusive**: Indicates whether the product is exclusive to Sephora or not (1 if true, 0 if false)\n",
    "21. **highlights**: A list of tags or features that highlight the product's attributes (e.g. [‘Vegan’, ‘Matte Finish’])\n",
    "22. **primary_category**: First category in the breadcrumb section\n",
    "23. **secondary_category**: Second category in the breadcrumb section\n",
    "24. **tertiary_category**: Third category in the breadcrumb section\n",
    "25. **child_count**: The number of variations of the product available\n",
    "26. **child_max_price**: The highest price among the variations of the product\n",
    "27. **child_min_price**: The lowest price among the variations of the product\n",
    "\n",
    "Among these columns, I will be considering only product_id, product_name, brand_id, brand_name, rating, reviews, price_usd"
   ]
  },
  {
   "attachments": {},
   "cell_type": "markdown",
   "metadata": {},
   "source": [
    "Reviewing some columns before deciding whether to select them or not"
   ]
  },
  {
   "cell_type": "code",
   "execution_count": 36,
   "metadata": {},
   "outputs": [
    {
     "data": {
      "text/html": [
       "<div>\n",
       "<style scoped>\n",
       "    .dataframe tbody tr th:only-of-type {\n",
       "        vertical-align: middle;\n",
       "    }\n",
       "\n",
       "    .dataframe tbody tr th {\n",
       "        vertical-align: top;\n",
       "    }\n",
       "\n",
       "    .dataframe thead th {\n",
       "        text-align: right;\n",
       "    }\n",
       "</style>\n",
       "<table border=\"1\" class=\"dataframe\">\n",
       "  <thead>\n",
       "    <tr style=\"text-align: right;\">\n",
       "      <th></th>\n",
       "      <th>size</th>\n",
       "      <th>variation_type</th>\n",
       "      <th>variation_value</th>\n",
       "      <th>variation_desc</th>\n",
       "      <th>ingredients</th>\n",
       "    </tr>\n",
       "  </thead>\n",
       "  <tbody>\n",
       "    <tr>\n",
       "      <th>0</th>\n",
       "      <td>NaN</td>\n",
       "      <td>NaN</td>\n",
       "      <td>NaN</td>\n",
       "      <td>NaN</td>\n",
       "      <td>['Capri Eau de Parfum:', 'Alcohol Denat. (SD A...</td>\n",
       "    </tr>\n",
       "    <tr>\n",
       "      <th>1</th>\n",
       "      <td>3.4 oz/ 100 mL</td>\n",
       "      <td>Size + Concentration + Formulation</td>\n",
       "      <td>3.4 oz/ 100 mL</td>\n",
       "      <td>NaN</td>\n",
       "      <td>['Alcohol Denat. (SD Alcohol 39C), Parfum (Fra...</td>\n",
       "    </tr>\n",
       "    <tr>\n",
       "      <th>2</th>\n",
       "      <td>3.4 oz/ 100 mL</td>\n",
       "      <td>Size + Concentration + Formulation</td>\n",
       "      <td>3.4 oz/ 100 mL</td>\n",
       "      <td>NaN</td>\n",
       "      <td>['Alcohol Denat. (SD Alcohol 39C), Parfum (Fra...</td>\n",
       "    </tr>\n",
       "    <tr>\n",
       "      <th>3</th>\n",
       "      <td>3.4 oz/ 100 mL</td>\n",
       "      <td>Size + Concentration + Formulation</td>\n",
       "      <td>3.4 oz/ 100 mL</td>\n",
       "      <td>NaN</td>\n",
       "      <td>['Alcohol Denat. (SD Alcohol 39C), Parfum (Fra...</td>\n",
       "    </tr>\n",
       "    <tr>\n",
       "      <th>4</th>\n",
       "      <td>3.4 oz/ 100 mL</td>\n",
       "      <td>Size + Concentration + Formulation</td>\n",
       "      <td>3.4 oz/ 100 mL</td>\n",
       "      <td>NaN</td>\n",
       "      <td>['Alcohol Denat. (SD Alcohol 39C), Parfum (Fra...</td>\n",
       "    </tr>\n",
       "  </tbody>\n",
       "</table>\n",
       "</div>"
      ],
      "text/plain": [
       "             size                      variation_type variation_value   \n",
       "0             NaN                                 NaN             NaN  \\\n",
       "1  3.4 oz/ 100 mL  Size + Concentration + Formulation  3.4 oz/ 100 mL   \n",
       "2  3.4 oz/ 100 mL  Size + Concentration + Formulation  3.4 oz/ 100 mL   \n",
       "3  3.4 oz/ 100 mL  Size + Concentration + Formulation  3.4 oz/ 100 mL   \n",
       "4  3.4 oz/ 100 mL  Size + Concentration + Formulation  3.4 oz/ 100 mL   \n",
       "\n",
       "  variation_desc                                        ingredients  \n",
       "0            NaN  ['Capri Eau de Parfum:', 'Alcohol Denat. (SD A...  \n",
       "1            NaN  ['Alcohol Denat. (SD Alcohol 39C), Parfum (Fra...  \n",
       "2            NaN  ['Alcohol Denat. (SD Alcohol 39C), Parfum (Fra...  \n",
       "3            NaN  ['Alcohol Denat. (SD Alcohol 39C), Parfum (Fra...  \n",
       "4            NaN  ['Alcohol Denat. (SD Alcohol 39C), Parfum (Fra...  "
      ]
     },
     "execution_count": 36,
     "metadata": {},
     "output_type": "execute_result"
    }
   ],
   "source": [
    "# df1[['size', 'variation_type', 'variation_value','variation_desc', 'ingredients']].head()"
   ]
  },
  {
   "cell_type": "code",
   "execution_count": 37,
   "metadata": {},
   "outputs": [
    {
     "data": {
      "text/plain": [
       "size               1631\n",
       "variation_type     1444\n",
       "variation_value    1598\n",
       "variation_desc     7244\n",
       "ingredients         945\n",
       "dtype: int64"
      ]
     },
     "execution_count": 37,
     "metadata": {},
     "output_type": "execute_result"
    }
   ],
   "source": [
    "# df1[['size', 'variation_type', 'variation_value','variation_desc', 'ingredients']].isna().sum()"
   ]
  },
  {
   "attachments": {},
   "cell_type": "markdown",
   "metadata": {},
   "source": [
    "These columns size, variation_type, variation_value, variation_desc, ingredients have a lot of nan values also, these are not relevant to the datawarehouse we are creating"
   ]
  },
  {
   "cell_type": "code",
   "execution_count": 38,
   "metadata": {},
   "outputs": [
    {
     "data": {
      "text/html": [
       "<div>\n",
       "<style scoped>\n",
       "    .dataframe tbody tr th:only-of-type {\n",
       "        vertical-align: middle;\n",
       "    }\n",
       "\n",
       "    .dataframe tbody tr th {\n",
       "        vertical-align: top;\n",
       "    }\n",
       "\n",
       "    .dataframe thead th {\n",
       "        text-align: right;\n",
       "    }\n",
       "</style>\n",
       "<table border=\"1\" class=\"dataframe\">\n",
       "  <thead>\n",
       "    <tr style=\"text-align: right;\">\n",
       "      <th></th>\n",
       "      <th>price_usd</th>\n",
       "      <th>value_price_usd</th>\n",
       "      <th>sale_price_usd</th>\n",
       "    </tr>\n",
       "  </thead>\n",
       "  <tbody>\n",
       "    <tr>\n",
       "      <th>0</th>\n",
       "      <td>35.0</td>\n",
       "      <td>NaN</td>\n",
       "      <td>NaN</td>\n",
       "    </tr>\n",
       "    <tr>\n",
       "      <th>1</th>\n",
       "      <td>195.0</td>\n",
       "      <td>NaN</td>\n",
       "      <td>NaN</td>\n",
       "    </tr>\n",
       "    <tr>\n",
       "      <th>2</th>\n",
       "      <td>195.0</td>\n",
       "      <td>NaN</td>\n",
       "      <td>NaN</td>\n",
       "    </tr>\n",
       "    <tr>\n",
       "      <th>3</th>\n",
       "      <td>195.0</td>\n",
       "      <td>NaN</td>\n",
       "      <td>NaN</td>\n",
       "    </tr>\n",
       "    <tr>\n",
       "      <th>4</th>\n",
       "      <td>195.0</td>\n",
       "      <td>NaN</td>\n",
       "      <td>NaN</td>\n",
       "    </tr>\n",
       "  </tbody>\n",
       "</table>\n",
       "</div>"
      ],
      "text/plain": [
       "   price_usd  value_price_usd  sale_price_usd\n",
       "0       35.0              NaN             NaN\n",
       "1      195.0              NaN             NaN\n",
       "2      195.0              NaN             NaN\n",
       "3      195.0              NaN             NaN\n",
       "4      195.0              NaN             NaN"
      ]
     },
     "execution_count": 38,
     "metadata": {},
     "output_type": "execute_result"
    }
   ],
   "source": [
    "# df1[['price_usd', 'value_price_usd','sale_price_usd']].head()"
   ]
  },
  {
   "cell_type": "code",
   "execution_count": 39,
   "metadata": {},
   "outputs": [
    {
     "data": {
      "text/plain": [
       "price_usd             0\n",
       "value_price_usd    8043\n",
       "sale_price_usd     8224\n",
       "dtype: int64"
      ]
     },
     "execution_count": 39,
     "metadata": {},
     "output_type": "execute_result"
    }
   ],
   "source": [
    "# df1[['price_usd', 'value_price_usd','sale_price_usd']].isna().sum()"
   ]
  },
  {
   "attachments": {},
   "cell_type": "markdown",
   "metadata": {},
   "source": [
    "Here value_price_usd and sale_price_used have a lot of nan values and cleaning these columns is also not necessary as we are only concerned with the original price in this task"
   ]
  },
  {
   "cell_type": "code",
   "execution_count": 44,
   "metadata": {},
   "outputs": [
    {
     "data": {
      "text/html": [
       "<div>\n",
       "<style scoped>\n",
       "    .dataframe tbody tr th:only-of-type {\n",
       "        vertical-align: middle;\n",
       "    }\n",
       "\n",
       "    .dataframe tbody tr th {\n",
       "        vertical-align: top;\n",
       "    }\n",
       "\n",
       "    .dataframe thead th {\n",
       "        text-align: right;\n",
       "    }\n",
       "</style>\n",
       "<table border=\"1\" class=\"dataframe\">\n",
       "  <thead>\n",
       "    <tr style=\"text-align: right;\">\n",
       "      <th></th>\n",
       "      <th>primary_category</th>\n",
       "      <th>secondary_category</th>\n",
       "      <th>tertiary_category</th>\n",
       "    </tr>\n",
       "  </thead>\n",
       "  <tbody>\n",
       "    <tr>\n",
       "      <th>0</th>\n",
       "      <td>Fragrance</td>\n",
       "      <td>Value &amp; Gift Sets</td>\n",
       "      <td>Perfume Gift Sets</td>\n",
       "    </tr>\n",
       "    <tr>\n",
       "      <th>1</th>\n",
       "      <td>Fragrance</td>\n",
       "      <td>Women</td>\n",
       "      <td>Perfume</td>\n",
       "    </tr>\n",
       "    <tr>\n",
       "      <th>2</th>\n",
       "      <td>Fragrance</td>\n",
       "      <td>Women</td>\n",
       "      <td>Perfume</td>\n",
       "    </tr>\n",
       "    <tr>\n",
       "      <th>3</th>\n",
       "      <td>Fragrance</td>\n",
       "      <td>Women</td>\n",
       "      <td>Perfume</td>\n",
       "    </tr>\n",
       "    <tr>\n",
       "      <th>4</th>\n",
       "      <td>Fragrance</td>\n",
       "      <td>Women</td>\n",
       "      <td>Perfume</td>\n",
       "    </tr>\n",
       "  </tbody>\n",
       "</table>\n",
       "</div>"
      ],
      "text/plain": [
       "  primary_category secondary_category  tertiary_category\n",
       "0        Fragrance  Value & Gift Sets  Perfume Gift Sets\n",
       "1        Fragrance              Women            Perfume\n",
       "2        Fragrance              Women            Perfume\n",
       "3        Fragrance              Women            Perfume\n",
       "4        Fragrance              Women            Perfume"
      ]
     },
     "execution_count": 44,
     "metadata": {},
     "output_type": "execute_result"
    }
   ],
   "source": [
    "df1[['primary_category','secondary_category', 'tertiary_category']].head()"
   ]
  },
  {
   "cell_type": "code",
   "execution_count": 45,
   "metadata": {},
   "outputs": [
    {
     "data": {
      "text/plain": [
       "primary_category        0\n",
       "secondary_category      8\n",
       "tertiary_category     990\n",
       "dtype: int64"
      ]
     },
     "execution_count": 45,
     "metadata": {},
     "output_type": "execute_result"
    }
   ],
   "source": [
    "df1[['primary_category','secondary_category', 'tertiary_category']].isna().sum()"
   ]
  },
  {
   "cell_type": "code",
   "execution_count": 46,
   "metadata": {},
   "outputs": [
    {
     "data": {
      "text/plain": [
       "primary_category\n",
       "Skincare           2420\n",
       "Makeup             2369\n",
       "Hair               1464\n",
       "Fragrance          1432\n",
       "Bath & Body         405\n",
       "Mini Size           288\n",
       "Men                  60\n",
       "Tools & Brushes      52\n",
       "Gifts                 4\n",
       "Name: count, dtype: int64"
      ]
     },
     "execution_count": 46,
     "metadata": {},
     "output_type": "execute_result"
    }
   ],
   "source": [
    "df1['primary_category'].value_counts()"
   ]
  },
  {
   "attachments": {},
   "cell_type": "markdown",
   "metadata": {},
   "source": [
    "I will consider only the primary category as it is the main category and will be enough for our task"
   ]
  },
  {
   "cell_type": "code",
   "execution_count": 47,
   "metadata": {},
   "outputs": [],
   "source": [
    "product_subset = [\"product_id\",\"product_name\",\"rating\",\"reviews\",\"loves_count\",\"price_usd\", \"child_count\",\"primary_category\"]\n",
    "brand_subset = [\"brand_id\",\"brand_name\"]"
   ]
  },
  {
   "cell_type": "code",
   "execution_count": 48,
   "metadata": {},
   "outputs": [
    {
     "data": {
      "text/html": [
       "<div>\n",
       "<style scoped>\n",
       "    .dataframe tbody tr th:only-of-type {\n",
       "        vertical-align: middle;\n",
       "    }\n",
       "\n",
       "    .dataframe tbody tr th {\n",
       "        vertical-align: top;\n",
       "    }\n",
       "\n",
       "    .dataframe thead th {\n",
       "        text-align: right;\n",
       "    }\n",
       "</style>\n",
       "<table border=\"1\" class=\"dataframe\">\n",
       "  <thead>\n",
       "    <tr style=\"text-align: right;\">\n",
       "      <th></th>\n",
       "      <th>product_id</th>\n",
       "      <th>product_name</th>\n",
       "      <th>rating</th>\n",
       "      <th>reviews</th>\n",
       "      <th>loves_count</th>\n",
       "      <th>price_usd</th>\n",
       "      <th>child_count</th>\n",
       "      <th>primary_category</th>\n",
       "    </tr>\n",
       "  </thead>\n",
       "  <tbody>\n",
       "    <tr>\n",
       "      <th>0</th>\n",
       "      <td>P473671</td>\n",
       "      <td>Fragrance Discovery Set</td>\n",
       "      <td>3.6364</td>\n",
       "      <td>11.0</td>\n",
       "      <td>6320</td>\n",
       "      <td>35.0</td>\n",
       "      <td>0</td>\n",
       "      <td>Fragrance</td>\n",
       "    </tr>\n",
       "    <tr>\n",
       "      <th>1</th>\n",
       "      <td>P473668</td>\n",
       "      <td>La Habana Eau de Parfum</td>\n",
       "      <td>4.1538</td>\n",
       "      <td>13.0</td>\n",
       "      <td>3827</td>\n",
       "      <td>195.0</td>\n",
       "      <td>2</td>\n",
       "      <td>Fragrance</td>\n",
       "    </tr>\n",
       "    <tr>\n",
       "      <th>2</th>\n",
       "      <td>P473662</td>\n",
       "      <td>Rainbow Bar Eau de Parfum</td>\n",
       "      <td>4.2500</td>\n",
       "      <td>16.0</td>\n",
       "      <td>3253</td>\n",
       "      <td>195.0</td>\n",
       "      <td>2</td>\n",
       "      <td>Fragrance</td>\n",
       "    </tr>\n",
       "    <tr>\n",
       "      <th>3</th>\n",
       "      <td>P473660</td>\n",
       "      <td>Kasbah Eau de Parfum</td>\n",
       "      <td>4.4762</td>\n",
       "      <td>21.0</td>\n",
       "      <td>3018</td>\n",
       "      <td>195.0</td>\n",
       "      <td>2</td>\n",
       "      <td>Fragrance</td>\n",
       "    </tr>\n",
       "    <tr>\n",
       "      <th>4</th>\n",
       "      <td>P473658</td>\n",
       "      <td>Purple Haze Eau de Parfum</td>\n",
       "      <td>3.2308</td>\n",
       "      <td>13.0</td>\n",
       "      <td>2691</td>\n",
       "      <td>195.0</td>\n",
       "      <td>2</td>\n",
       "      <td>Fragrance</td>\n",
       "    </tr>\n",
       "  </tbody>\n",
       "</table>\n",
       "</div>"
      ],
      "text/plain": [
       "  product_id               product_name  rating  reviews  loves_count   \n",
       "0    P473671    Fragrance Discovery Set  3.6364     11.0         6320  \\\n",
       "1    P473668    La Habana Eau de Parfum  4.1538     13.0         3827   \n",
       "2    P473662  Rainbow Bar Eau de Parfum  4.2500     16.0         3253   \n",
       "3    P473660       Kasbah Eau de Parfum  4.4762     21.0         3018   \n",
       "4    P473658  Purple Haze Eau de Parfum  3.2308     13.0         2691   \n",
       "\n",
       "   price_usd  child_count primary_category  \n",
       "0       35.0            0        Fragrance  \n",
       "1      195.0            2        Fragrance  \n",
       "2      195.0            2        Fragrance  \n",
       "3      195.0            2        Fragrance  \n",
       "4      195.0            2        Fragrance  "
      ]
     },
     "execution_count": 48,
     "metadata": {},
     "output_type": "execute_result"
    }
   ],
   "source": [
    "df_product = df1[product_subset]\n",
    "df_product.head()"
   ]
  },
  {
   "cell_type": "code",
   "execution_count": 49,
   "metadata": {},
   "outputs": [
    {
     "data": {
      "text/plain": [
       "(8494, 8)"
      ]
     },
     "execution_count": 49,
     "metadata": {},
     "output_type": "execute_result"
    }
   ],
   "source": [
    "df_product.shape"
   ]
  },
  {
   "cell_type": "code",
   "execution_count": 50,
   "metadata": {},
   "outputs": [
    {
     "data": {
      "text/plain": [
       "product_id            0\n",
       "product_name          0\n",
       "rating              278\n",
       "reviews             278\n",
       "loves_count           0\n",
       "price_usd             0\n",
       "child_count           0\n",
       "primary_category      0\n",
       "dtype: int64"
      ]
     },
     "execution_count": 50,
     "metadata": {},
     "output_type": "execute_result"
    }
   ],
   "source": [
    "df_product.isna().sum()"
   ]
  },
  {
   "cell_type": "code",
   "execution_count": 51,
   "metadata": {},
   "outputs": [
    {
     "name": "stderr",
     "output_type": "stream",
     "text": [
      "C:\\Users\\dell\\AppData\\Local\\Temp\\ipykernel_4940\\4115225444.py:2: SettingWithCopyWarning: \n",
      "A value is trying to be set on a copy of a slice from a DataFrame\n",
      "\n",
      "See the caveats in the documentation: https://pandas.pydata.org/pandas-docs/stable/user_guide/indexing.html#returning-a-view-versus-a-copy\n",
      "  df_product[\"rating\"].fillna(0,inplace=True)\n",
      "C:\\Users\\dell\\AppData\\Local\\Temp\\ipykernel_4940\\4115225444.py:3: SettingWithCopyWarning: \n",
      "A value is trying to be set on a copy of a slice from a DataFrame\n",
      "\n",
      "See the caveats in the documentation: https://pandas.pydata.org/pandas-docs/stable/user_guide/indexing.html#returning-a-view-versus-a-copy\n",
      "  df_product[\"reviews\"].fillna(0,inplace=True)\n"
     ]
    }
   ],
   "source": [
    "# Replacing the nan values in rating and reviews by 0 considering that the lowest average rating can be 0 and also the lowest no of reviews can be 0\n",
    "df_product[\"rating\"].fillna(0,inplace=True)\n",
    "df_product[\"reviews\"].fillna(0,inplace=True)"
   ]
  },
  {
   "cell_type": "code",
   "execution_count": 52,
   "metadata": {},
   "outputs": [
    {
     "data": {
      "text/plain": [
       "product_id          0\n",
       "product_name        0\n",
       "rating              0\n",
       "reviews             0\n",
       "loves_count         0\n",
       "price_usd           0\n",
       "child_count         0\n",
       "primary_category    0\n",
       "dtype: int64"
      ]
     },
     "execution_count": 52,
     "metadata": {},
     "output_type": "execute_result"
    }
   ],
   "source": [
    "df_product.isna().sum()"
   ]
  },
  {
   "cell_type": "code",
   "execution_count": 53,
   "metadata": {},
   "outputs": [
    {
     "data": {
      "text/html": [
       "<div>\n",
       "<style scoped>\n",
       "    .dataframe tbody tr th:only-of-type {\n",
       "        vertical-align: middle;\n",
       "    }\n",
       "\n",
       "    .dataframe tbody tr th {\n",
       "        vertical-align: top;\n",
       "    }\n",
       "\n",
       "    .dataframe thead th {\n",
       "        text-align: right;\n",
       "    }\n",
       "</style>\n",
       "<table border=\"1\" class=\"dataframe\">\n",
       "  <thead>\n",
       "    <tr style=\"text-align: right;\">\n",
       "      <th></th>\n",
       "      <th>product_id</th>\n",
       "      <th>product_name</th>\n",
       "      <th>rating</th>\n",
       "      <th>reviews</th>\n",
       "      <th>loves_count</th>\n",
       "      <th>price_usd</th>\n",
       "      <th>child_count</th>\n",
       "      <th>primary_category</th>\n",
       "    </tr>\n",
       "  </thead>\n",
       "  <tbody>\n",
       "    <tr>\n",
       "      <th>0</th>\n",
       "      <td>P473671</td>\n",
       "      <td>Fragrance Discovery Set</td>\n",
       "      <td>3.6364</td>\n",
       "      <td>11.0</td>\n",
       "      <td>6320</td>\n",
       "      <td>35.0</td>\n",
       "      <td>0</td>\n",
       "      <td>Fragrance</td>\n",
       "    </tr>\n",
       "    <tr>\n",
       "      <th>1</th>\n",
       "      <td>P473668</td>\n",
       "      <td>La Habana Eau de Parfum</td>\n",
       "      <td>4.1538</td>\n",
       "      <td>13.0</td>\n",
       "      <td>3827</td>\n",
       "      <td>195.0</td>\n",
       "      <td>2</td>\n",
       "      <td>Fragrance</td>\n",
       "    </tr>\n",
       "    <tr>\n",
       "      <th>2</th>\n",
       "      <td>P473662</td>\n",
       "      <td>Rainbow Bar Eau de Parfum</td>\n",
       "      <td>4.2500</td>\n",
       "      <td>16.0</td>\n",
       "      <td>3253</td>\n",
       "      <td>195.0</td>\n",
       "      <td>2</td>\n",
       "      <td>Fragrance</td>\n",
       "    </tr>\n",
       "    <tr>\n",
       "      <th>3</th>\n",
       "      <td>P473660</td>\n",
       "      <td>Kasbah Eau de Parfum</td>\n",
       "      <td>4.4762</td>\n",
       "      <td>21.0</td>\n",
       "      <td>3018</td>\n",
       "      <td>195.0</td>\n",
       "      <td>2</td>\n",
       "      <td>Fragrance</td>\n",
       "    </tr>\n",
       "    <tr>\n",
       "      <th>4</th>\n",
       "      <td>P473658</td>\n",
       "      <td>Purple Haze Eau de Parfum</td>\n",
       "      <td>3.2308</td>\n",
       "      <td>13.0</td>\n",
       "      <td>2691</td>\n",
       "      <td>195.0</td>\n",
       "      <td>2</td>\n",
       "      <td>Fragrance</td>\n",
       "    </tr>\n",
       "  </tbody>\n",
       "</table>\n",
       "</div>"
      ],
      "text/plain": [
       "  product_id               product_name  rating  reviews  loves_count   \n",
       "0    P473671    Fragrance Discovery Set  3.6364     11.0         6320  \\\n",
       "1    P473668    La Habana Eau de Parfum  4.1538     13.0         3827   \n",
       "2    P473662  Rainbow Bar Eau de Parfum  4.2500     16.0         3253   \n",
       "3    P473660       Kasbah Eau de Parfum  4.4762     21.0         3018   \n",
       "4    P473658  Purple Haze Eau de Parfum  3.2308     13.0         2691   \n",
       "\n",
       "   price_usd  child_count primary_category  \n",
       "0       35.0            0        Fragrance  \n",
       "1      195.0            2        Fragrance  \n",
       "2      195.0            2        Fragrance  \n",
       "3      195.0            2        Fragrance  \n",
       "4      195.0            2        Fragrance  "
      ]
     },
     "execution_count": 53,
     "metadata": {},
     "output_type": "execute_result"
    }
   ],
   "source": [
    "df_product.head()"
   ]
  },
  {
   "cell_type": "code",
   "execution_count": 54,
   "metadata": {},
   "outputs": [
    {
     "data": {
      "text/html": [
       "<div>\n",
       "<style scoped>\n",
       "    .dataframe tbody tr th:only-of-type {\n",
       "        vertical-align: middle;\n",
       "    }\n",
       "\n",
       "    .dataframe tbody tr th {\n",
       "        vertical-align: top;\n",
       "    }\n",
       "\n",
       "    .dataframe thead th {\n",
       "        text-align: right;\n",
       "    }\n",
       "</style>\n",
       "<table border=\"1\" class=\"dataframe\">\n",
       "  <thead>\n",
       "    <tr style=\"text-align: right;\">\n",
       "      <th></th>\n",
       "      <th>brand_id</th>\n",
       "      <th>brand_name</th>\n",
       "    </tr>\n",
       "  </thead>\n",
       "  <tbody>\n",
       "    <tr>\n",
       "      <th>0</th>\n",
       "      <td>6342</td>\n",
       "      <td>19-69</td>\n",
       "    </tr>\n",
       "    <tr>\n",
       "      <th>1</th>\n",
       "      <td>6342</td>\n",
       "      <td>19-69</td>\n",
       "    </tr>\n",
       "    <tr>\n",
       "      <th>2</th>\n",
       "      <td>6342</td>\n",
       "      <td>19-69</td>\n",
       "    </tr>\n",
       "    <tr>\n",
       "      <th>3</th>\n",
       "      <td>6342</td>\n",
       "      <td>19-69</td>\n",
       "    </tr>\n",
       "    <tr>\n",
       "      <th>4</th>\n",
       "      <td>6342</td>\n",
       "      <td>19-69</td>\n",
       "    </tr>\n",
       "  </tbody>\n",
       "</table>\n",
       "</div>"
      ],
      "text/plain": [
       "   brand_id brand_name\n",
       "0      6342      19-69\n",
       "1      6342      19-69\n",
       "2      6342      19-69\n",
       "3      6342      19-69\n",
       "4      6342      19-69"
      ]
     },
     "execution_count": 54,
     "metadata": {},
     "output_type": "execute_result"
    }
   ],
   "source": [
    "df_brand = df1[brand_subset]\n",
    "df_brand.head()"
   ]
  },
  {
   "cell_type": "code",
   "execution_count": 55,
   "metadata": {},
   "outputs": [
    {
     "data": {
      "text/plain": [
       "brand_id      0\n",
       "brand_name    0\n",
       "dtype: int64"
      ]
     },
     "execution_count": 55,
     "metadata": {},
     "output_type": "execute_result"
    }
   ],
   "source": [
    "df_brand.isna().sum()"
   ]
  },
  {
   "cell_type": "code",
   "execution_count": 56,
   "metadata": {},
   "outputs": [
    {
     "data": {
      "text/plain": [
       "brand_name\n",
       "SEPHORA COLLECTION     352\n",
       "CLINIQUE               179\n",
       "Dior                   136\n",
       "tarte                  131\n",
       "NEST New York          115\n",
       "                      ... \n",
       "Aquis                    1\n",
       "Narciso Rodriguez        1\n",
       "Jillian Dempsey          1\n",
       "DOMINIQUE COSMETICS      1\n",
       "iluminage                1\n",
       "Name: count, Length: 304, dtype: int64"
      ]
     },
     "execution_count": 56,
     "metadata": {},
     "output_type": "execute_result"
    }
   ],
   "source": [
    "df_brand['brand_name'].value_counts()"
   ]
  },
  {
   "attachments": {},
   "cell_type": "markdown",
   "metadata": {},
   "source": [
    "Reading the 2nd dataset containing product_reviews"
   ]
  },
  {
   "cell_type": "code",
   "execution_count": 8,
   "metadata": {},
   "outputs": [
    {
     "name": "stdout",
     "output_type": "stream",
     "text": [
      "Rows: 49977, Columns: 18\n"
     ]
    },
    {
     "name": "stderr",
     "output_type": "stream",
     "text": [
      "C:\\Users\\dell\\AppData\\Local\\Temp\\ipykernel_3812\\2265356720.py:1: DtypeWarning: Columns (1) have mixed types. Specify dtype option on import or set low_memory=False.\n",
      "  df2 = pd.read_csv(dataset2_path,index_col=0)\n"
     ]
    },
    {
     "data": {
      "text/html": [
       "<div>\n",
       "<style scoped>\n",
       "    .dataframe tbody tr th:only-of-type {\n",
       "        vertical-align: middle;\n",
       "    }\n",
       "\n",
       "    .dataframe tbody tr th {\n",
       "        vertical-align: top;\n",
       "    }\n",
       "\n",
       "    .dataframe thead th {\n",
       "        text-align: right;\n",
       "    }\n",
       "</style>\n",
       "<table border=\"1\" class=\"dataframe\">\n",
       "  <thead>\n",
       "    <tr style=\"text-align: right;\">\n",
       "      <th></th>\n",
       "      <th>author_id</th>\n",
       "      <th>rating</th>\n",
       "      <th>is_recommended</th>\n",
       "      <th>helpfulness</th>\n",
       "      <th>total_feedback_count</th>\n",
       "      <th>total_neg_feedback_count</th>\n",
       "      <th>total_pos_feedback_count</th>\n",
       "      <th>submission_time</th>\n",
       "      <th>review_text</th>\n",
       "      <th>review_title</th>\n",
       "      <th>skin_tone</th>\n",
       "      <th>eye_color</th>\n",
       "      <th>skin_type</th>\n",
       "      <th>hair_color</th>\n",
       "      <th>product_id</th>\n",
       "      <th>product_name</th>\n",
       "      <th>brand_name</th>\n",
       "      <th>price_usd</th>\n",
       "    </tr>\n",
       "  </thead>\n",
       "  <tbody>\n",
       "    <tr>\n",
       "      <th>0</th>\n",
       "      <td>1945004256</td>\n",
       "      <td>5</td>\n",
       "      <td>1.0</td>\n",
       "      <td>0.000000</td>\n",
       "      <td>2</td>\n",
       "      <td>2</td>\n",
       "      <td>0</td>\n",
       "      <td>2022-12-10</td>\n",
       "      <td>I absolutely L-O-V-E this oil. I have acne pro...</td>\n",
       "      <td>A must have!</td>\n",
       "      <td>lightMedium</td>\n",
       "      <td>green</td>\n",
       "      <td>combination</td>\n",
       "      <td>NaN</td>\n",
       "      <td>P379064</td>\n",
       "      <td>Lotus Balancing &amp; Hydrating Natural Face Treat...</td>\n",
       "      <td>Clarins</td>\n",
       "      <td>65.0</td>\n",
       "    </tr>\n",
       "    <tr>\n",
       "      <th>1</th>\n",
       "      <td>5478482359</td>\n",
       "      <td>3</td>\n",
       "      <td>1.0</td>\n",
       "      <td>0.333333</td>\n",
       "      <td>3</td>\n",
       "      <td>2</td>\n",
       "      <td>1</td>\n",
       "      <td>2021-12-17</td>\n",
       "      <td>I gave this 3 stars because it give me tiny li...</td>\n",
       "      <td>it keeps oily skin under control</td>\n",
       "      <td>mediumTan</td>\n",
       "      <td>brown</td>\n",
       "      <td>oily</td>\n",
       "      <td>black</td>\n",
       "      <td>P379064</td>\n",
       "      <td>Lotus Balancing &amp; Hydrating Natural Face Treat...</td>\n",
       "      <td>Clarins</td>\n",
       "      <td>65.0</td>\n",
       "    </tr>\n",
       "    <tr>\n",
       "      <th>2</th>\n",
       "      <td>29002209922</td>\n",
       "      <td>5</td>\n",
       "      <td>1.0</td>\n",
       "      <td>1.000000</td>\n",
       "      <td>2</td>\n",
       "      <td>0</td>\n",
       "      <td>2</td>\n",
       "      <td>2021-06-07</td>\n",
       "      <td>Works well as soon as I wash my face and pat d...</td>\n",
       "      <td>Worth the money!</td>\n",
       "      <td>lightMedium</td>\n",
       "      <td>brown</td>\n",
       "      <td>dry</td>\n",
       "      <td>black</td>\n",
       "      <td>P379064</td>\n",
       "      <td>Lotus Balancing &amp; Hydrating Natural Face Treat...</td>\n",
       "      <td>Clarins</td>\n",
       "      <td>65.0</td>\n",
       "    </tr>\n",
       "    <tr>\n",
       "      <th>3</th>\n",
       "      <td>7391078463</td>\n",
       "      <td>5</td>\n",
       "      <td>1.0</td>\n",
       "      <td>1.000000</td>\n",
       "      <td>2</td>\n",
       "      <td>0</td>\n",
       "      <td>2</td>\n",
       "      <td>2021-05-21</td>\n",
       "      <td>this oil helped with hydration and breakouts, ...</td>\n",
       "      <td>best face oil</td>\n",
       "      <td>lightMedium</td>\n",
       "      <td>brown</td>\n",
       "      <td>combination</td>\n",
       "      <td>blonde</td>\n",
       "      <td>P379064</td>\n",
       "      <td>Lotus Balancing &amp; Hydrating Natural Face Treat...</td>\n",
       "      <td>Clarins</td>\n",
       "      <td>65.0</td>\n",
       "    </tr>\n",
       "    <tr>\n",
       "      <th>4</th>\n",
       "      <td>1766313888</td>\n",
       "      <td>5</td>\n",
       "      <td>1.0</td>\n",
       "      <td>1.000000</td>\n",
       "      <td>13</td>\n",
       "      <td>0</td>\n",
       "      <td>13</td>\n",
       "      <td>2021-03-29</td>\n",
       "      <td>This is my first product review ever so that s...</td>\n",
       "      <td>Maskne miracle</td>\n",
       "      <td>mediumTan</td>\n",
       "      <td>brown</td>\n",
       "      <td>combination</td>\n",
       "      <td>black</td>\n",
       "      <td>P379064</td>\n",
       "      <td>Lotus Balancing &amp; Hydrating Natural Face Treat...</td>\n",
       "      <td>Clarins</td>\n",
       "      <td>65.0</td>\n",
       "    </tr>\n",
       "  </tbody>\n",
       "</table>\n",
       "</div>"
      ],
      "text/plain": [
       "     author_id  rating  is_recommended  helpfulness  total_feedback_count   \n",
       "0   1945004256       5             1.0     0.000000                     2  \\\n",
       "1   5478482359       3             1.0     0.333333                     3   \n",
       "2  29002209922       5             1.0     1.000000                     2   \n",
       "3   7391078463       5             1.0     1.000000                     2   \n",
       "4   1766313888       5             1.0     1.000000                    13   \n",
       "\n",
       "   total_neg_feedback_count  total_pos_feedback_count submission_time   \n",
       "0                         2                         0      2022-12-10  \\\n",
       "1                         2                         1      2021-12-17   \n",
       "2                         0                         2      2021-06-07   \n",
       "3                         0                         2      2021-05-21   \n",
       "4                         0                        13      2021-03-29   \n",
       "\n",
       "                                         review_text   \n",
       "0  I absolutely L-O-V-E this oil. I have acne pro...  \\\n",
       "1  I gave this 3 stars because it give me tiny li...   \n",
       "2  Works well as soon as I wash my face and pat d...   \n",
       "3  this oil helped with hydration and breakouts, ...   \n",
       "4  This is my first product review ever so that s...   \n",
       "\n",
       "                       review_title    skin_tone eye_color    skin_type   \n",
       "0                      A must have!  lightMedium     green  combination  \\\n",
       "1  it keeps oily skin under control    mediumTan     brown         oily   \n",
       "2                  Worth the money!  lightMedium     brown          dry   \n",
       "3                     best face oil  lightMedium     brown  combination   \n",
       "4                    Maskne miracle    mediumTan     brown  combination   \n",
       "\n",
       "  hair_color product_id                                       product_name   \n",
       "0        NaN    P379064  Lotus Balancing & Hydrating Natural Face Treat...  \\\n",
       "1      black    P379064  Lotus Balancing & Hydrating Natural Face Treat...   \n",
       "2      black    P379064  Lotus Balancing & Hydrating Natural Face Treat...   \n",
       "3     blonde    P379064  Lotus Balancing & Hydrating Natural Face Treat...   \n",
       "4      black    P379064  Lotus Balancing & Hydrating Natural Face Treat...   \n",
       "\n",
       "  brand_name  price_usd  \n",
       "0    Clarins       65.0  \n",
       "1    Clarins       65.0  \n",
       "2    Clarins       65.0  \n",
       "3    Clarins       65.0  \n",
       "4    Clarins       65.0  "
      ]
     },
     "execution_count": 8,
     "metadata": {},
     "output_type": "execute_result"
    }
   ],
   "source": [
    "df2 = pd.read_csv(dataset2_path,index_col=0)\n",
    "print(f\"Rows: {df2.shape[0]}, Columns: {df2.shape[1]}\")\n",
    "df2.head()"
   ]
  },
  {
   "cell_type": "code",
   "execution_count": 9,
   "metadata": {},
   "outputs": [
    {
     "data": {
      "text/plain": [
       "Index(['author_id', 'rating', 'is_recommended', 'helpfulness',\n",
       "       'total_feedback_count', 'total_neg_feedback_count',\n",
       "       'total_pos_feedback_count', 'submission_time', 'review_text',\n",
       "       'review_title', 'skin_tone', 'eye_color', 'skin_type', 'hair_color',\n",
       "       'product_id', 'product_name', 'brand_name', 'price_usd'],\n",
       "      dtype='object')"
      ]
     },
     "execution_count": 9,
     "metadata": {},
     "output_type": "execute_result"
    }
   ],
   "source": [
    "df2.columns"
   ]
  },
  {
   "attachments": {},
   "cell_type": "markdown",
   "metadata": {},
   "source": [
    "### Columns Description\n",
    "1. **author_id**: The unique identifier for the author of the review on the website\n",
    "2. **rating**: The rating given by the author for the product on a scale of 1 to 5\n",
    "3. **is_recommended**: Indicates if the author recommends the product or not (1-true, 0-false)\n",
    "4. **helpfulness**: The ratio of all ratings to positive ratings for the review: helpfulness = total_pos_feedback_count / total_feedback_count\n",
    "5. **total_feedback_count**: Total number of feedback (positive and negative ratings) left by users for the review\n",
    "6. **total_negative_feedback_count**: The number of users who gave a negative rating for the review\n",
    "7. **total_pos_feedback_count**: The number of users who gave a positive rating for the review\n",
    "8. **submission_time**: Date the review was posted on the website in the 'yyyy-mm-dd' format\n",
    "9. **review_text**: The main text of the review written by the author\n",
    "10. **review_title**: The title of the review written by the author\n",
    "11. **skin_tone**: Author's skin tone (e.g. fair, tan, etc.)\n",
    "12. **eye_color**: Author's eye color (e.g. brown, green, etc.)\n",
    "13. **skin_type**: Author's skin type (e.g. combination, oily, etc.)\n",
    "14. **hair_color**: Author's hair color (e.g. brown, auburn, etc.)\n",
    "15. **product_id**: Unique identifier for the product on the website\n",
    "\n",
    "From here we can create a review table and a reviewer table"
   ]
  },
  {
   "cell_type": "code",
   "execution_count": 12,
   "metadata": {},
   "outputs": [],
   "source": [
    "author_subset = ['author_id','skin_tone','eye_color','skin_type','hair_color']\n",
    "review_subset = ['review_text','review_title']\n",
    "product_subset = ['product_id', 'product_name', 'brand_name', 'price_usd','rating']"
   ]
  },
  {
   "cell_type": "code",
   "execution_count": 14,
   "metadata": {},
   "outputs": [
    {
     "data": {
      "text/html": [
       "<div>\n",
       "<style scoped>\n",
       "    .dataframe tbody tr th:only-of-type {\n",
       "        vertical-align: middle;\n",
       "    }\n",
       "\n",
       "    .dataframe tbody tr th {\n",
       "        vertical-align: top;\n",
       "    }\n",
       "\n",
       "    .dataframe thead th {\n",
       "        text-align: right;\n",
       "    }\n",
       "</style>\n",
       "<table border=\"1\" class=\"dataframe\">\n",
       "  <thead>\n",
       "    <tr style=\"text-align: right;\">\n",
       "      <th></th>\n",
       "      <th>author_id</th>\n",
       "      <th>skin_tone</th>\n",
       "      <th>eye_color</th>\n",
       "      <th>skin_type</th>\n",
       "      <th>hair_color</th>\n",
       "    </tr>\n",
       "  </thead>\n",
       "  <tbody>\n",
       "    <tr>\n",
       "      <th>0</th>\n",
       "      <td>1945004256</td>\n",
       "      <td>lightMedium</td>\n",
       "      <td>green</td>\n",
       "      <td>combination</td>\n",
       "      <td>NaN</td>\n",
       "    </tr>\n",
       "    <tr>\n",
       "      <th>1</th>\n",
       "      <td>5478482359</td>\n",
       "      <td>mediumTan</td>\n",
       "      <td>brown</td>\n",
       "      <td>oily</td>\n",
       "      <td>black</td>\n",
       "    </tr>\n",
       "    <tr>\n",
       "      <th>2</th>\n",
       "      <td>29002209922</td>\n",
       "      <td>lightMedium</td>\n",
       "      <td>brown</td>\n",
       "      <td>dry</td>\n",
       "      <td>black</td>\n",
       "    </tr>\n",
       "    <tr>\n",
       "      <th>3</th>\n",
       "      <td>7391078463</td>\n",
       "      <td>lightMedium</td>\n",
       "      <td>brown</td>\n",
       "      <td>combination</td>\n",
       "      <td>blonde</td>\n",
       "    </tr>\n",
       "    <tr>\n",
       "      <th>4</th>\n",
       "      <td>1766313888</td>\n",
       "      <td>mediumTan</td>\n",
       "      <td>brown</td>\n",
       "      <td>combination</td>\n",
       "      <td>black</td>\n",
       "    </tr>\n",
       "  </tbody>\n",
       "</table>\n",
       "</div>"
      ],
      "text/plain": [
       "     author_id    skin_tone eye_color    skin_type hair_color\n",
       "0   1945004256  lightMedium     green  combination        NaN\n",
       "1   5478482359    mediumTan     brown         oily      black\n",
       "2  29002209922  lightMedium     brown          dry      black\n",
       "3   7391078463  lightMedium     brown  combination     blonde\n",
       "4   1766313888    mediumTan     brown  combination      black"
      ]
     },
     "execution_count": 14,
     "metadata": {},
     "output_type": "execute_result"
    }
   ],
   "source": [
    "df_author = df2[author_subset]\n",
    "df_author.head()"
   ]
  },
  {
   "cell_type": "code",
   "execution_count": 16,
   "metadata": {},
   "outputs": [
    {
     "data": {
      "text/plain": [
       "(49977, 5)"
      ]
     },
     "execution_count": 16,
     "metadata": {},
     "output_type": "execute_result"
    }
   ],
   "source": [
    "df_author.shape"
   ]
  },
  {
   "cell_type": "code",
   "execution_count": 15,
   "metadata": {},
   "outputs": [
    {
     "data": {
      "text/plain": [
       "author_id        0\n",
       "skin_tone     7201\n",
       "eye_color     6260\n",
       "skin_type     3631\n",
       "hair_color    8851\n",
       "dtype: int64"
      ]
     },
     "execution_count": 15,
     "metadata": {},
     "output_type": "execute_result"
    }
   ],
   "source": [
    "df_author.isna().sum()"
   ]
  },
  {
   "cell_type": "code",
   "execution_count": 37,
   "metadata": {},
   "outputs": [
    {
     "data": {
      "text/plain": [
       "(3511, 5)"
      ]
     },
     "execution_count": 37,
     "metadata": {},
     "output_type": "execute_result"
    }
   ],
   "source": [
    "df_author[(df_author[\"skin_tone\"].isna() == True) & (df_author[\"eye_color\"].isna()== True) & (df_author[\"skin_type\"].isna()== True) & (df_author[\"hair_color\"].isna()== True)].shape"
   ]
  },
  {
   "attachments": {},
   "cell_type": "markdown",
   "metadata": {},
   "source": [
    "Total 3511 rows have nan values in all of the user's features so these can be dropped"
   ]
  },
  {
   "cell_type": "code",
   "execution_count": 38,
   "metadata": {},
   "outputs": [
    {
     "data": {
      "text/plain": [
       "author_id        0\n",
       "skin_tone     3690\n",
       "eye_color     2749\n",
       "skin_type      120\n",
       "hair_color    5340\n",
       "dtype: int64"
      ]
     },
     "execution_count": 38,
     "metadata": {},
     "output_type": "execute_result"
    }
   ],
   "source": [
    "condition = (df_author[\"skin_tone\"].isna() & df_author[\"eye_color\"].isna() & df_author[\"skin_type\"].isna() & df_author[\"hair_color\"].isna())\n",
    "\n",
    "# Drop the rows that satisfy the condition\n",
    "df_author = df_author.drop(df_author[condition].index)\n",
    "df_author.isna().sum()"
   ]
  },
  {
   "attachments": {},
   "cell_type": "markdown",
   "metadata": {},
   "source": [
    "For remaining replacing them with their mode"
   ]
  },
  {
   "cell_type": "code",
   "execution_count": 43,
   "metadata": {},
   "outputs": [
    {
     "data": {
      "text/plain": [
       "author_id     0\n",
       "skin_tone     0\n",
       "eye_color     0\n",
       "skin_type     0\n",
       "hair_color    0\n",
       "dtype: int64"
      ]
     },
     "execution_count": 43,
     "metadata": {},
     "output_type": "execute_result"
    }
   ],
   "source": [
    "df_author[\"skin_tone\"] = df_author[\"skin_tone\"].fillna(df_author[\"skin_tone\"].mode()[0])\n",
    "df_author[\"eye_color\"] = df_author[\"eye_color\"].fillna(df_author[\"eye_color\"].mode()[0])\n",
    "df_author[\"skin_type\"] = df_author[\"skin_type\"].fillna(df_author[\"skin_type\"].mode()[0])\n",
    "df_author[\"hair_color\"] = df_author[\"hair_color\"].fillna(df_author[\"hair_color\"].mode()[0])\n",
    "df_author.isna().sum()"
   ]
  },
  {
   "attachments": {},
   "cell_type": "markdown",
   "metadata": {},
   "source": [
    "All Categorical are nan, so possible cleaning step is to replace them with most frequent value i-e mode"
   ]
  },
  {
   "cell_type": "code",
   "execution_count": 18,
   "metadata": {},
   "outputs": [
    {
     "name": "stderr",
     "output_type": "stream",
     "text": [
      "C:\\Users\\dell\\AppData\\Local\\Temp\\ipykernel_3812\\2203736593.py:2: SettingWithCopyWarning: \n",
      "A value is trying to be set on a copy of a slice from a DataFrame.\n",
      "Try using .loc[row_indexer,col_indexer] = value instead\n",
      "\n",
      "See the caveats in the documentation: https://pandas.pydata.org/pandas-docs/stable/user_guide/indexing.html#returning-a-view-versus-a-copy\n",
      "  df_review[\"review_id\"] = range(1, len(df_review) + 1)\n"
     ]
    },
    {
     "data": {
      "text/html": [
       "<div>\n",
       "<style scoped>\n",
       "    .dataframe tbody tr th:only-of-type {\n",
       "        vertical-align: middle;\n",
       "    }\n",
       "\n",
       "    .dataframe tbody tr th {\n",
       "        vertical-align: top;\n",
       "    }\n",
       "\n",
       "    .dataframe thead th {\n",
       "        text-align: right;\n",
       "    }\n",
       "</style>\n",
       "<table border=\"1\" class=\"dataframe\">\n",
       "  <thead>\n",
       "    <tr style=\"text-align: right;\">\n",
       "      <th></th>\n",
       "      <th>review_id</th>\n",
       "      <th>review_title</th>\n",
       "      <th>review_text</th>\n",
       "    </tr>\n",
       "  </thead>\n",
       "  <tbody>\n",
       "    <tr>\n",
       "      <th>0</th>\n",
       "      <td>1</td>\n",
       "      <td>A must have!</td>\n",
       "      <td>I absolutely L-O-V-E this oil. I have acne pro...</td>\n",
       "    </tr>\n",
       "    <tr>\n",
       "      <th>1</th>\n",
       "      <td>2</td>\n",
       "      <td>it keeps oily skin under control</td>\n",
       "      <td>I gave this 3 stars because it give me tiny li...</td>\n",
       "    </tr>\n",
       "    <tr>\n",
       "      <th>2</th>\n",
       "      <td>3</td>\n",
       "      <td>Worth the money!</td>\n",
       "      <td>Works well as soon as I wash my face and pat d...</td>\n",
       "    </tr>\n",
       "    <tr>\n",
       "      <th>3</th>\n",
       "      <td>4</td>\n",
       "      <td>best face oil</td>\n",
       "      <td>this oil helped with hydration and breakouts, ...</td>\n",
       "    </tr>\n",
       "    <tr>\n",
       "      <th>4</th>\n",
       "      <td>5</td>\n",
       "      <td>Maskne miracle</td>\n",
       "      <td>This is my first product review ever so that s...</td>\n",
       "    </tr>\n",
       "  </tbody>\n",
       "</table>\n",
       "</div>"
      ],
      "text/plain": [
       "   review_id                      review_title   \n",
       "0          1                      A must have!  \\\n",
       "1          2  it keeps oily skin under control   \n",
       "2          3                  Worth the money!   \n",
       "3          4                     best face oil   \n",
       "4          5                    Maskne miracle   \n",
       "\n",
       "                                         review_text  \n",
       "0  I absolutely L-O-V-E this oil. I have acne pro...  \n",
       "1  I gave this 3 stars because it give me tiny li...  \n",
       "2  Works well as soon as I wash my face and pat d...  \n",
       "3  this oil helped with hydration and breakouts, ...  \n",
       "4  This is my first product review ever so that s...  "
      ]
     },
     "execution_count": 18,
     "metadata": {},
     "output_type": "execute_result"
    }
   ],
   "source": [
    "df_review = df2[review_subset]\n",
    "df_review[\"review_id\"] = range(1, len(df_review) + 1)\n",
    "df_review = df_review[[\"review_id\",'review_title',\"review_text\"]]\n",
    "df_review.head()"
   ]
  },
  {
   "cell_type": "code",
   "execution_count": 19,
   "metadata": {},
   "outputs": [
    {
     "data": {
      "text/plain": [
       "review_id           0\n",
       "review_title    14378\n",
       "review_text        59\n",
       "dtype: int64"
      ]
     },
     "execution_count": 19,
     "metadata": {},
     "output_type": "execute_result"
    }
   ],
   "source": [
    "df_review.isna().sum()"
   ]
  },
  {
   "attachments": {},
   "cell_type": "markdown",
   "metadata": {},
   "source": [
    "In this case I believe that it is better to replace NAN with a placeholder text like \"A product review\""
   ]
  },
  {
   "cell_type": "code",
   "execution_count": 28,
   "metadata": {},
   "outputs": [
    {
     "name": "stdout",
     "output_type": "stream",
     "text": [
      "Both Review title and Review text empty: 59\n"
     ]
    },
    {
     "data": {
      "text/html": [
       "<div>\n",
       "<style scoped>\n",
       "    .dataframe tbody tr th:only-of-type {\n",
       "        vertical-align: middle;\n",
       "    }\n",
       "\n",
       "    .dataframe tbody tr th {\n",
       "        vertical-align: top;\n",
       "    }\n",
       "\n",
       "    .dataframe thead th {\n",
       "        text-align: right;\n",
       "    }\n",
       "</style>\n",
       "<table border=\"1\" class=\"dataframe\">\n",
       "  <thead>\n",
       "    <tr style=\"text-align: right;\">\n",
       "      <th></th>\n",
       "      <th>review_id</th>\n",
       "      <th>review_title</th>\n",
       "      <th>review_text</th>\n",
       "    </tr>\n",
       "  </thead>\n",
       "  <tbody>\n",
       "    <tr>\n",
       "      <th>993</th>\n",
       "      <td>994</td>\n",
       "      <td>NaN</td>\n",
       "      <td>NaN</td>\n",
       "    </tr>\n",
       "    <tr>\n",
       "      <th>1154</th>\n",
       "      <td>1155</td>\n",
       "      <td>NaN</td>\n",
       "      <td>NaN</td>\n",
       "    </tr>\n",
       "    <tr>\n",
       "      <th>2570</th>\n",
       "      <td>2571</td>\n",
       "      <td>NaN</td>\n",
       "      <td>NaN</td>\n",
       "    </tr>\n",
       "    <tr>\n",
       "      <th>2961</th>\n",
       "      <td>2962</td>\n",
       "      <td>NaN</td>\n",
       "      <td>NaN</td>\n",
       "    </tr>\n",
       "    <tr>\n",
       "      <th>3128</th>\n",
       "      <td>3129</td>\n",
       "      <td>NaN</td>\n",
       "      <td>NaN</td>\n",
       "    </tr>\n",
       "  </tbody>\n",
       "</table>\n",
       "</div>"
      ],
      "text/plain": [
       "      review_id review_title review_text\n",
       "993         994          NaN         NaN\n",
       "1154       1155          NaN         NaN\n",
       "2570       2571          NaN         NaN\n",
       "2961       2962          NaN         NaN\n",
       "3128       3129          NaN         NaN"
      ]
     },
     "execution_count": 28,
     "metadata": {},
     "output_type": "execute_result"
    }
   ],
   "source": [
    "print(f'Both Review title and Review text empty: {df_review[(df_review[\"review_text\"].isna() == True) & (df_review[\"review_title\"].isna()== True)].shape[0]}')\n",
    "df_review[(df_review[\"review_text\"].isna() == True) & (df_review[\"review_title\"].isna()== True)].head()"
   ]
  },
  {
   "attachments": {},
   "cell_type": "markdown",
   "metadata": {},
   "source": [
    "This indicates that the rows with NAN in review_text should be removed as our core component in this data warehouse is product review and we cannot replace the reviews with custom placeholder"
   ]
  },
  {
   "cell_type": "code",
   "execution_count": 33,
   "metadata": {},
   "outputs": [
    {
     "data": {
      "text/plain": [
       "review_id           0\n",
       "review_title    14319\n",
       "review_text         0\n",
       "dtype: int64"
      ]
     },
     "execution_count": 33,
     "metadata": {},
     "output_type": "execute_result"
    }
   ],
   "source": [
    "df_review = df_review.dropna(subset=[\"review_text\"])\n",
    "df_review.isna().sum()"
   ]
  },
  {
   "attachments": {},
   "cell_type": "markdown",
   "metadata": {},
   "source": [
    "replacing the remaining rows with NaN in review title with default placeholder review title"
   ]
  },
  {
   "cell_type": "code",
   "execution_count": 34,
   "metadata": {},
   "outputs": [
    {
     "data": {
      "text/plain": [
       "review_id       0\n",
       "review_title    0\n",
       "review_text     0\n",
       "dtype: int64"
      ]
     },
     "execution_count": 34,
     "metadata": {},
     "output_type": "execute_result"
    }
   ],
   "source": [
    "df_review[\"review_title\"] = df_review[\"review_title\"].fillna(\"Honest customer review\")\n",
    "df_review.isna().sum()"
   ]
  },
  {
   "cell_type": "code",
   "execution_count": 47,
   "metadata": {},
   "outputs": [
    {
     "data": {
      "text/html": [
       "<div>\n",
       "<style scoped>\n",
       "    .dataframe tbody tr th:only-of-type {\n",
       "        vertical-align: middle;\n",
       "    }\n",
       "\n",
       "    .dataframe tbody tr th {\n",
       "        vertical-align: top;\n",
       "    }\n",
       "\n",
       "    .dataframe thead th {\n",
       "        text-align: right;\n",
       "    }\n",
       "</style>\n",
       "<table border=\"1\" class=\"dataframe\">\n",
       "  <thead>\n",
       "    <tr style=\"text-align: right;\">\n",
       "      <th></th>\n",
       "      <th>product_id</th>\n",
       "      <th>product_name</th>\n",
       "      <th>brand_name</th>\n",
       "      <th>price_usd</th>\n",
       "      <th>rating</th>\n",
       "    </tr>\n",
       "  </thead>\n",
       "  <tbody>\n",
       "    <tr>\n",
       "      <th>0</th>\n",
       "      <td>P379064</td>\n",
       "      <td>Lotus Balancing &amp; Hydrating Natural Face Treat...</td>\n",
       "      <td>Clarins</td>\n",
       "      <td>65.0</td>\n",
       "      <td>5</td>\n",
       "    </tr>\n",
       "    <tr>\n",
       "      <th>1</th>\n",
       "      <td>P379064</td>\n",
       "      <td>Lotus Balancing &amp; Hydrating Natural Face Treat...</td>\n",
       "      <td>Clarins</td>\n",
       "      <td>65.0</td>\n",
       "      <td>3</td>\n",
       "    </tr>\n",
       "    <tr>\n",
       "      <th>2</th>\n",
       "      <td>P379064</td>\n",
       "      <td>Lotus Balancing &amp; Hydrating Natural Face Treat...</td>\n",
       "      <td>Clarins</td>\n",
       "      <td>65.0</td>\n",
       "      <td>5</td>\n",
       "    </tr>\n",
       "    <tr>\n",
       "      <th>3</th>\n",
       "      <td>P379064</td>\n",
       "      <td>Lotus Balancing &amp; Hydrating Natural Face Treat...</td>\n",
       "      <td>Clarins</td>\n",
       "      <td>65.0</td>\n",
       "      <td>5</td>\n",
       "    </tr>\n",
       "    <tr>\n",
       "      <th>4</th>\n",
       "      <td>P379064</td>\n",
       "      <td>Lotus Balancing &amp; Hydrating Natural Face Treat...</td>\n",
       "      <td>Clarins</td>\n",
       "      <td>65.0</td>\n",
       "      <td>5</td>\n",
       "    </tr>\n",
       "  </tbody>\n",
       "</table>\n",
       "</div>"
      ],
      "text/plain": [
       "  product_id                                       product_name brand_name   \n",
       "0    P379064  Lotus Balancing & Hydrating Natural Face Treat...    Clarins  \\\n",
       "1    P379064  Lotus Balancing & Hydrating Natural Face Treat...    Clarins   \n",
       "2    P379064  Lotus Balancing & Hydrating Natural Face Treat...    Clarins   \n",
       "3    P379064  Lotus Balancing & Hydrating Natural Face Treat...    Clarins   \n",
       "4    P379064  Lotus Balancing & Hydrating Natural Face Treat...    Clarins   \n",
       "\n",
       "   price_usd  rating  \n",
       "0       65.0       5  \n",
       "1       65.0       3  \n",
       "2       65.0       5  \n",
       "3       65.0       5  \n",
       "4       65.0       5  "
      ]
     },
     "execution_count": 47,
     "metadata": {},
     "output_type": "execute_result"
    }
   ],
   "source": [
    "df_product = df2[product_subset]\n",
    "df_product.head()"
   ]
  },
  {
   "cell_type": "code",
   "execution_count": 48,
   "metadata": {},
   "outputs": [
    {
     "data": {
      "text/plain": [
       "product_id      0\n",
       "product_name    0\n",
       "brand_name      0\n",
       "price_usd       0\n",
       "rating          0\n",
       "dtype: int64"
      ]
     },
     "execution_count": 48,
     "metadata": {},
     "output_type": "execute_result"
    }
   ],
   "source": [
    "df_product.isna().sum()"
   ]
  },
  {
   "cell_type": "code",
   "execution_count": 49,
   "metadata": {},
   "outputs": [
    {
     "data": {
      "text/html": [
       "<div>\n",
       "<style scoped>\n",
       "    .dataframe tbody tr th:only-of-type {\n",
       "        vertical-align: middle;\n",
       "    }\n",
       "\n",
       "    .dataframe tbody tr th {\n",
       "        vertical-align: top;\n",
       "    }\n",
       "\n",
       "    .dataframe thead th {\n",
       "        text-align: right;\n",
       "    }\n",
       "</style>\n",
       "<table border=\"1\" class=\"dataframe\">\n",
       "  <thead>\n",
       "    <tr style=\"text-align: right;\">\n",
       "      <th></th>\n",
       "      <th>author_id</th>\n",
       "      <th>rating</th>\n",
       "      <th>is_recommended</th>\n",
       "      <th>helpfulness</th>\n",
       "      <th>total_feedback_count</th>\n",
       "      <th>total_neg_feedback_count</th>\n",
       "      <th>total_pos_feedback_count</th>\n",
       "      <th>submission_time</th>\n",
       "      <th>review_text</th>\n",
       "      <th>review_title</th>\n",
       "      <th>skin_tone</th>\n",
       "      <th>eye_color</th>\n",
       "      <th>skin_type</th>\n",
       "      <th>hair_color</th>\n",
       "      <th>product_id</th>\n",
       "      <th>product_name</th>\n",
       "      <th>brand_name</th>\n",
       "      <th>price_usd</th>\n",
       "    </tr>\n",
       "  </thead>\n",
       "  <tbody>\n",
       "    <tr>\n",
       "      <th>0</th>\n",
       "      <td>1945004256</td>\n",
       "      <td>5</td>\n",
       "      <td>1.0</td>\n",
       "      <td>0.000000</td>\n",
       "      <td>2</td>\n",
       "      <td>2</td>\n",
       "      <td>0</td>\n",
       "      <td>2022-12-10</td>\n",
       "      <td>I absolutely L-O-V-E this oil. I have acne pro...</td>\n",
       "      <td>A must have!</td>\n",
       "      <td>lightMedium</td>\n",
       "      <td>green</td>\n",
       "      <td>combination</td>\n",
       "      <td>NaN</td>\n",
       "      <td>P379064</td>\n",
       "      <td>Lotus Balancing &amp; Hydrating Natural Face Treat...</td>\n",
       "      <td>Clarins</td>\n",
       "      <td>65.0</td>\n",
       "    </tr>\n",
       "    <tr>\n",
       "      <th>1</th>\n",
       "      <td>5478482359</td>\n",
       "      <td>3</td>\n",
       "      <td>1.0</td>\n",
       "      <td>0.333333</td>\n",
       "      <td>3</td>\n",
       "      <td>2</td>\n",
       "      <td>1</td>\n",
       "      <td>2021-12-17</td>\n",
       "      <td>I gave this 3 stars because it give me tiny li...</td>\n",
       "      <td>it keeps oily skin under control</td>\n",
       "      <td>mediumTan</td>\n",
       "      <td>brown</td>\n",
       "      <td>oily</td>\n",
       "      <td>black</td>\n",
       "      <td>P379064</td>\n",
       "      <td>Lotus Balancing &amp; Hydrating Natural Face Treat...</td>\n",
       "      <td>Clarins</td>\n",
       "      <td>65.0</td>\n",
       "    </tr>\n",
       "    <tr>\n",
       "      <th>2</th>\n",
       "      <td>29002209922</td>\n",
       "      <td>5</td>\n",
       "      <td>1.0</td>\n",
       "      <td>1.000000</td>\n",
       "      <td>2</td>\n",
       "      <td>0</td>\n",
       "      <td>2</td>\n",
       "      <td>2021-06-07</td>\n",
       "      <td>Works well as soon as I wash my face and pat d...</td>\n",
       "      <td>Worth the money!</td>\n",
       "      <td>lightMedium</td>\n",
       "      <td>brown</td>\n",
       "      <td>dry</td>\n",
       "      <td>black</td>\n",
       "      <td>P379064</td>\n",
       "      <td>Lotus Balancing &amp; Hydrating Natural Face Treat...</td>\n",
       "      <td>Clarins</td>\n",
       "      <td>65.0</td>\n",
       "    </tr>\n",
       "    <tr>\n",
       "      <th>3</th>\n",
       "      <td>7391078463</td>\n",
       "      <td>5</td>\n",
       "      <td>1.0</td>\n",
       "      <td>1.000000</td>\n",
       "      <td>2</td>\n",
       "      <td>0</td>\n",
       "      <td>2</td>\n",
       "      <td>2021-05-21</td>\n",
       "      <td>this oil helped with hydration and breakouts, ...</td>\n",
       "      <td>best face oil</td>\n",
       "      <td>lightMedium</td>\n",
       "      <td>brown</td>\n",
       "      <td>combination</td>\n",
       "      <td>blonde</td>\n",
       "      <td>P379064</td>\n",
       "      <td>Lotus Balancing &amp; Hydrating Natural Face Treat...</td>\n",
       "      <td>Clarins</td>\n",
       "      <td>65.0</td>\n",
       "    </tr>\n",
       "    <tr>\n",
       "      <th>4</th>\n",
       "      <td>1766313888</td>\n",
       "      <td>5</td>\n",
       "      <td>1.0</td>\n",
       "      <td>1.000000</td>\n",
       "      <td>13</td>\n",
       "      <td>0</td>\n",
       "      <td>13</td>\n",
       "      <td>2021-03-29</td>\n",
       "      <td>This is my first product review ever so that s...</td>\n",
       "      <td>Maskne miracle</td>\n",
       "      <td>mediumTan</td>\n",
       "      <td>brown</td>\n",
       "      <td>combination</td>\n",
       "      <td>black</td>\n",
       "      <td>P379064</td>\n",
       "      <td>Lotus Balancing &amp; Hydrating Natural Face Treat...</td>\n",
       "      <td>Clarins</td>\n",
       "      <td>65.0</td>\n",
       "    </tr>\n",
       "  </tbody>\n",
       "</table>\n",
       "</div>"
      ],
      "text/plain": [
       "     author_id  rating  is_recommended  helpfulness  total_feedback_count   \n",
       "0   1945004256       5             1.0     0.000000                     2  \\\n",
       "1   5478482359       3             1.0     0.333333                     3   \n",
       "2  29002209922       5             1.0     1.000000                     2   \n",
       "3   7391078463       5             1.0     1.000000                     2   \n",
       "4   1766313888       5             1.0     1.000000                    13   \n",
       "\n",
       "   total_neg_feedback_count  total_pos_feedback_count submission_time   \n",
       "0                         2                         0      2022-12-10  \\\n",
       "1                         2                         1      2021-12-17   \n",
       "2                         0                         2      2021-06-07   \n",
       "3                         0                         2      2021-05-21   \n",
       "4                         0                        13      2021-03-29   \n",
       "\n",
       "                                         review_text   \n",
       "0  I absolutely L-O-V-E this oil. I have acne pro...  \\\n",
       "1  I gave this 3 stars because it give me tiny li...   \n",
       "2  Works well as soon as I wash my face and pat d...   \n",
       "3  this oil helped with hydration and breakouts, ...   \n",
       "4  This is my first product review ever so that s...   \n",
       "\n",
       "                       review_title    skin_tone eye_color    skin_type   \n",
       "0                      A must have!  lightMedium     green  combination  \\\n",
       "1  it keeps oily skin under control    mediumTan     brown         oily   \n",
       "2                  Worth the money!  lightMedium     brown          dry   \n",
       "3                     best face oil  lightMedium     brown  combination   \n",
       "4                    Maskne miracle    mediumTan     brown  combination   \n",
       "\n",
       "  hair_color product_id                                       product_name   \n",
       "0        NaN    P379064  Lotus Balancing & Hydrating Natural Face Treat...  \\\n",
       "1      black    P379064  Lotus Balancing & Hydrating Natural Face Treat...   \n",
       "2      black    P379064  Lotus Balancing & Hydrating Natural Face Treat...   \n",
       "3     blonde    P379064  Lotus Balancing & Hydrating Natural Face Treat...   \n",
       "4      black    P379064  Lotus Balancing & Hydrating Natural Face Treat...   \n",
       "\n",
       "  brand_name  price_usd  \n",
       "0    Clarins       65.0  \n",
       "1    Clarins       65.0  \n",
       "2    Clarins       65.0  \n",
       "3    Clarins       65.0  \n",
       "4    Clarins       65.0  "
      ]
     },
     "execution_count": 49,
     "metadata": {},
     "output_type": "execute_result"
    }
   ],
   "source": [
    "df2.head()"
   ]
  },
  {
   "cell_type": "code",
   "execution_count": 52,
   "metadata": {},
   "outputs": [
    {
     "data": {
      "text/html": [
       "<div>\n",
       "<style scoped>\n",
       "    .dataframe tbody tr th:only-of-type {\n",
       "        vertical-align: middle;\n",
       "    }\n",
       "\n",
       "    .dataframe tbody tr th {\n",
       "        vertical-align: top;\n",
       "    }\n",
       "\n",
       "    .dataframe thead th {\n",
       "        text-align: right;\n",
       "    }\n",
       "</style>\n",
       "<table border=\"1\" class=\"dataframe\">\n",
       "  <thead>\n",
       "    <tr style=\"text-align: right;\">\n",
       "      <th></th>\n",
       "      <th>full_date</th>\n",
       "      <th>year</th>\n",
       "      <th>month</th>\n",
       "      <th>day</th>\n",
       "    </tr>\n",
       "  </thead>\n",
       "  <tbody>\n",
       "    <tr>\n",
       "      <th>0</th>\n",
       "      <td>2022-12-10</td>\n",
       "      <td>2022</td>\n",
       "      <td>12</td>\n",
       "      <td>10</td>\n",
       "    </tr>\n",
       "    <tr>\n",
       "      <th>1</th>\n",
       "      <td>2021-12-17</td>\n",
       "      <td>2021</td>\n",
       "      <td>12</td>\n",
       "      <td>17</td>\n",
       "    </tr>\n",
       "    <tr>\n",
       "      <th>2</th>\n",
       "      <td>2021-06-07</td>\n",
       "      <td>2021</td>\n",
       "      <td>6</td>\n",
       "      <td>7</td>\n",
       "    </tr>\n",
       "    <tr>\n",
       "      <th>3</th>\n",
       "      <td>2021-05-21</td>\n",
       "      <td>2021</td>\n",
       "      <td>5</td>\n",
       "      <td>21</td>\n",
       "    </tr>\n",
       "    <tr>\n",
       "      <th>4</th>\n",
       "      <td>2021-03-29</td>\n",
       "      <td>2021</td>\n",
       "      <td>3</td>\n",
       "      <td>29</td>\n",
       "    </tr>\n",
       "  </tbody>\n",
       "</table>\n",
       "</div>"
      ],
      "text/plain": [
       "   full_date  year  month  day\n",
       "0 2022-12-10  2022     12   10\n",
       "1 2021-12-17  2021     12   17\n",
       "2 2021-06-07  2021      6    7\n",
       "3 2021-05-21  2021      5   21\n",
       "4 2021-03-29  2021      3   29"
      ]
     },
     "execution_count": 52,
     "metadata": {},
     "output_type": "execute_result"
    }
   ],
   "source": [
    "df_date = pd.DataFrame()\n",
    "df_date[\"full_date\"] = pd.to_datetime(df2[\"submission_time\"])\n",
    "df_date[\"year\"] = df_date[\"full_date\"].dt.year\n",
    "df_date[\"month\"] = df_date[\"full_date\"].dt.month\n",
    "df_date[\"day\"] = df_date[\"full_date\"].dt.day\n",
    "df_date.head()"
   ]
  },
  {
   "cell_type": "code",
   "execution_count": null,
   "metadata": {},
   "outputs": [],
   "source": []
  }
 ],
 "metadata": {
  "kernelspec": {
   "display_name": ".final_project_venv",
   "language": "python",
   "name": "python3"
  },
  "language_info": {
   "codemirror_mode": {
    "name": "ipython",
    "version": 3
   },
   "file_extension": ".py",
   "mimetype": "text/x-python",
   "name": "python",
   "nbconvert_exporter": "python",
   "pygments_lexer": "ipython3",
   "version": "3.8.5"
  },
  "orig_nbformat": 4
 },
 "nbformat": 4,
 "nbformat_minor": 2
}
